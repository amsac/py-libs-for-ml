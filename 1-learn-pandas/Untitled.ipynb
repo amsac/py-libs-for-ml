{
 "cells": [
  {
   "cell_type": "markdown",
   "id": "451ed63a-cd88-4556-8074-ea5f9c3cf585",
   "metadata": {},
   "source": [
    "This one isa sample notebook\n",
    "intentions are \n",
    "1. familiarize with jupyter and anaconda\n",
    "2. learn pandas"
   ]
  },
  {
   "cell_type": "code",
   "execution_count": 4,
   "id": "7375d5f3-ea65-4071-8a30-2ceee1e6a5f7",
   "metadata": {},
   "outputs": [],
   "source": [
    "import pandas as pd\n"
   ]
  },
  {
   "cell_type": "code",
   "execution_count": null,
   "id": "a12044a7-9ed6-4ea6-ba09-87fc51c2c044",
   "metadata": {},
   "outputs": [],
   "source": []
  }
 ],
 "metadata": {
  "kernelspec": {
   "display_name": "Python 3 (ipykernel)",
   "language": "python",
   "name": "python3"
  },
  "language_info": {
   "codemirror_mode": {
    "name": "ipython",
    "version": 3
   },
   "file_extension": ".py",
   "mimetype": "text/x-python",
   "name": "python",
   "nbconvert_exporter": "python",
   "pygments_lexer": "ipython3",
   "version": "3.12.7"
  }
 },
 "nbformat": 4,
 "nbformat_minor": 5
}
